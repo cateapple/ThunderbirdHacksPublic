{
 "cells": [
  {
   "cell_type": "markdown",
   "metadata": {},
   "source": [
    "# Welcome to Thunderbird Hacks! \n",
    "## First thing to know  \n",
    "This notebook has lots of cells. Each cell is either text or code. You can see which cell you are on by the black vertical bar to the left. To select a cell, single click on it. \n",
    "## Double click on this cell\n",
    "This will allow you to edit the text. You'll notice that the content doesn't change but there's some extra stuff (like #s) in the cell. That stuff helps format the text so it is easier to read.\n",
    "## How to run a cell\n",
    "You can run a cell by clicking the single triangle, or play button, in the menu above. The keyboard shortcut for this is `ctrl`+`enter`. For a text cell, this will return the text to read, and for a code cell, it will run the code. Try this now if you haven't already."
   ]
  },
  {
   "cell_type": "markdown",
   "metadata": {},
   "source": [
    "## This is the next cell.\n",
    "This is a text cell, just like the one above. Single click on it to select it, double click to edit it, and `ctrl`+`enter` to run it.\n",
    "\n",
    "## The cell below is a code cell\n",
    "Single clicking on it allows you to select and edit it. "
   ]
  },
  {
   "cell_type": "code",
   "execution_count": 1,
   "metadata": {},
   "outputs": [
    {
     "name": "stdout",
     "output_type": "stream",
     "text": [
      "Hello World!\n"
     ]
    }
   ],
   "source": [
    "# This is a code cell\n",
    "# <- that hash means this is a comment\n",
    "# When you run your code cells, it ignores any comments\n",
    "# Comments are useful for telling you what the code does \n",
    "\n",
    "#Print out a greeting\n",
    "print(\"Hello World!\")\n",
    "\n",
    "#try running this cell to see what happens"
   ]
  },
  {
   "cell_type": "markdown",
   "metadata": {},
   "source": [
    "## Congratulations! You ran your first Python code\n",
    "You should see the `Hello World!` below the cell above and none of the comments. \n",
    "\n",
    "So, lets break down what you just ran:  \n",
    "`print()` is a function - it does something to whatever is inside the parentheses.  \n",
    "\n",
    "`\"Hello World!\"` - this is called a string. Anything in between quotation marks are strings.  \n",
    "\n",
    "Test it out! Try removing the quotation marks around Hello World in the code cell above, run it, and see what happens.\n",
    "\n",
    "You may see a red box around some text. This is an error - you broke the code!  \n",
    "You can fix it by putting the quotation marks back. You can also try editing the text - enter your name or your favorite sandwich inside the quotation marks and run the code to see what happens.\n",
    "\n",
    "Going forward, functions will always have parentheses after them, often with parameters inside the parentheses."
   ]
  },
  {
   "cell_type": "markdown",
   "metadata": {},
   "source": [
    "## Now, lets learn about variables\n",
    "\n",
    "Look at the code cell below. Can you guess what happens?\n",
    "\n",
    "The comments should help, and take note of the colors of the code.\n",
    "\n",
    "Run the cell and see if your guess was correct."
   ]
  },
  {
   "cell_type": "code",
   "execution_count": 2,
   "metadata": {},
   "outputs": [
    {
     "name": "stdout",
     "output_type": "stream",
     "text": [
      "Hello\n",
      "foo\n",
      "HelloWorld\n"
     ]
    }
   ],
   "source": [
    "foo = \"Hello\" #set the variable foo\n",
    "bar = \"World\" #set bar\n",
    "\n",
    "print(foo) #print foo\n",
    "print(\"foo\") #print foo\n",
    "print(foo + bar) #print foo and bar"
   ]
  },
  {
   "cell_type": "markdown",
   "metadata": {},
   "source": [
    "Did you guess correctly? Let's run through what happened:  \n",
    "1. `foo = \"Hello\"` sets the variable foo to be a string with the value Hello\n",
    "2. `bar = \"World\"` sets the variable bar to be a string with the value World\n",
    "3. `print(foo)` prints the *value* of the variable foo\n",
    "4. `print(\"foo\")` prints foo as a string because of the quotation marks\n",
    "5. `print(foo + bar)` prints the values of both foo and bar. Notice there is no space inbetween the words because there were no spaces in the strings when they were defined.\n",
    "\n",
    "Are you confused? Try editing the code above and test out what happens with different changes you make to the code. If you're still confused, ask for help."
   ]
  },
  {
   "cell_type": "markdown",
   "metadata": {},
   "source": [
    "Print statements are very useful for debugging code - since code is run top to bottom, they can help you figure out what is happening when you get error messages."
   ]
  },
  {
   "cell_type": "markdown",
   "metadata": {},
   "source": [
    "## What about math?\n",
    "\n",
    "The code below shows a few basics."
   ]
  },
  {
   "cell_type": "code",
   "execution_count": 2,
   "metadata": {},
   "outputs": [
    {
     "name": "stdout",
     "output_type": "stream",
     "text": [
      "5\n",
      "5\n",
      "a+a=\n",
      "10\n",
      "b+b=\n",
      "55\n",
      "was this surprising?\n"
     ]
    }
   ],
   "source": [
    "a = 5 #sets the variable a to 5 \n",
    "#notice there are not any quotation marks\n",
    "#this is because we want 5 to be treated as a number\n",
    "\n",
    "b = \"5\" #sets the variable b to a string\n",
    "print(a) #print the value of a\n",
    "print(b) # print the value of b\n",
    "\n",
    "print(\"a+a=\")\n",
    "print(a+a) #print a+a\n",
    "print(\"b+b=\")\n",
    "print(b+b) #print b+b\n",
    "\n",
    "#Run this cell and observe what happens for each print statement\n",
    "print(\"was this surprising?\")"
   ]
  },
  {
   "cell_type": "markdown",
   "metadata": {},
   "source": [
    "There are a lot of math operations that you can use, though many won't be super useful to you today. If you feel like it, you can use the cell below to test out what you've learned above."
   ]
  },
  {
   "cell_type": "code",
   "execution_count": null,
   "metadata": {},
   "outputs": [],
   "source": [
    "# You can use this cell for testing concepts you learned above."
   ]
  },
  {
   "cell_type": "markdown",
   "metadata": {},
   "source": [
    "## A little bit about data types\n",
    "\n",
    "Every variable you use in Python will have a data type. The first kind we saw were strings - the letters inside quotations. You've also seen integers - numeric values without decimal points. So what else might you see today?\n",
    " \n",
    "`float` - numbers with decimals, ex. `1.5` <br> \n",
    "`list` - a sequence type, ex. [1,2,3], [\"cat\",\"dog\",\"fish\"]\n",
    "\n",
    "### Arrays will be very important\n",
    "\n",
    "An array is like a list, it can hold multiple variables at once. The easiest way to start with arrays is with lists. So, lets define a list **ar** as:  \n",
    "\n",
    "`ar = [\"cat\", \"dog\", \"fish\"]`  \n",
    "\n",
    "If we want to get the first value, `cat`, out of the array, we can just use this:  \n",
    "\n",
    "`ar[0]`\n",
    "\n",
    "We have a zero in the square brackets because the *index* for arrays and lists in Python starts at zero.  \n",
    "\n",
    "We can get the length of a list using:  \n",
    "\n",
    "`len(ar)`\n"
   ]
  },
  {
   "cell_type": "code",
   "execution_count": 3,
   "metadata": {},
   "outputs": [
    {
     "name": "stdout",
     "output_type": "stream",
     "text": [
      "The array ar: \n",
      "['cat', 'dog', 'fish']\n",
      "The first value of ar: cat\n",
      "The second value of ar: dog\n",
      "The last value of ar: fish\n",
      "The length of ar: \n",
      "3\n"
     ]
    }
   ],
   "source": [
    "#lets test this out with some code\n",
    "ar = [\"cat\", \"dog\", \"fish\"] #setting the array ar\n",
    "print(\"The array ar: \")\n",
    "print(ar)\n",
    "\n",
    "print(\"The first value of ar: \"+ar[0])\n",
    "print(\"The second value of ar: \"+ar[1])\n",
    "print(\"The last value of ar: \"+ar[2])\n",
    "\n",
    "\n",
    "print(\"The length of ar: \")\n",
    "print(len(ar))"
   ]
  },
  {
   "cell_type": "markdown",
   "metadata": {},
   "source": [
    "## Numpy arrays\n",
    "\n",
    "A numpy array is just a better way of storing arrays, it has to do with memory and speed. A lot of functions won't take lists, you have to use numpy arrays.\n",
    "\n",
    "If you really want to learn all about them, I suggest you read the [numpy documentation](https://numpy.org/doc/stable/user/absolute_beginners.html#whats-the-difference-between-a-python-list-and-a-numpy-array). However, in the interest of time, the explanation in this cell should be enough for today.\n",
    "\n",
    "Look at the code below, then run it to learn how to create numpy arrays.\n"
   ]
  },
  {
   "cell_type": "code",
   "execution_count": 4,
   "metadata": {},
   "outputs": [
    {
     "name": "stdout",
     "output_type": "stream",
     "text": [
      "A nested list: [[1, 2, 3, 4], [5, 6, 7, 8]]\n",
      "a_list as a numpy array: [1 2 3 4]\n",
      "a nested list as a numpy array:\n",
      "[[1 2 3 4]\n",
      " [5 6 7 8]]\n"
     ]
    }
   ],
   "source": [
    "a_list = [1,2,3,4] #this is a list\n",
    "b_list = [5,6,7,8] #this is another list\n",
    "c_list = [a_list, b_list] #this is a list of lists, or nested list\n",
    "\n",
    "print(\"A nested list: {}\".format(c_list)) #print out c_list\n",
    "\n",
    "import numpy as np #import numpy so we can use it, you'll learn more about imports later\n",
    "\n",
    "#now, we'll turn our lists into numpy arrays using the function np.asarray()\n",
    "np_alist = np.asarray(a_list) #np.asarray() turns a_list into a numpy array\n",
    "np_clist = np.asarray(c_list) #turn c_list into a numpy array\n",
    "\n",
    "print(\"a_list as a numpy array: {}\".format(np_alist)) #print out np_alist\n",
    "\n",
    "print(\"a nested list as a numpy array:\")\n",
    "print(np_clist) #print out np_clist\n"
   ]
  },
  {
   "cell_type": "markdown",
   "metadata": {},
   "source": [
    "Notice that that lists have commas separating each value and numpy arrays do not."
   ]
  },
  {
   "cell_type": "code",
   "execution_count": 5,
   "metadata": {},
   "outputs": [
    {
     "name": "stdout",
     "output_type": "stream",
     "text": [
      "(2, 4)\n"
     ]
    }
   ],
   "source": [
    "# You can also find the shape of an array\n",
    "shape = np.shape(c_list)\n",
    "print(shape)"
   ]
  },
  {
   "cell_type": "markdown",
   "metadata": {},
   "source": [
    "Shape errors are very common errors to run into in machine learning. Understanding all of them takes several classes in linear algebra, so if you do run into them and get stuck, the best course of action is to ask for help."
   ]
  },
  {
   "cell_type": "markdown",
   "metadata": {},
   "source": [
    "## An introduction to libraries\n",
    "\n",
    "Earlier, you may have seen:\n",
    "`import numpy as np`\n",
    "\n",
    "This imports, or loads, the numpy library so that you can use all of the functions it contains. Notice the `as np`, this is like a nickname we can use for the library.\n",
    "\n",
    "We used the function `np.asarray()` earlier. The `np` tells the computer to look in the numpy library to find the function `asarray()`\n",
    "\n",
    "Run the cell below and you're all set to go with the libraries you will need today!"
   ]
  },
  {
   "cell_type": "code",
   "execution_count": 6,
   "metadata": {
    "_cell_guid": "b1076dfc-b9ad-4769-8c92-a6c4dae69d19",
    "_uuid": "8f2839f25d086af736a60e9eeb907d3b93b6e0e5"
   },
   "outputs": [],
   "source": [
    "#imports\n",
    "import numpy as np # linear algebra library\n",
    "import pandas as pd # data processing, CSV file I/O (e.g. pd.read_csv)\n",
    "import os #useful library for dealing with filepaths\n",
    "#sklearn has everything else you will need\n",
    "from sklearn import model_selection\n",
    "from sklearn.neighbors import KNeighborsClassifier\n",
    "from sklearn.metrics import accuracy_score"
   ]
  },
  {
   "cell_type": "markdown",
   "metadata": {},
   "source": [
    "# Let's get started with the task!"
   ]
  },
  {
   "cell_type": "markdown",
   "metadata": {},
   "source": [
    "The cell below tells you all the files you can use during this competition. Notice that we are using the `os` library and the `listdir()` function within that library. We are passing a string (the file path) into the function.\n",
    "\n",
    "Run the cell, you should see ['train.csv', 'test.csv'] as output. If you do not see anything, or get an error, click on `Run` in the menu above, and select factory reset. You will need to re-run the import cell above first, but it should fix your error when you rerun the cell below. If you are still having issues, ask for help."
   ]
  },
  {
   "cell_type": "code",
   "execution_count": 6,
   "metadata": {
    "collapsed": true
   },
   "outputs": [
    {
     "ename": "FileNotFoundError",
     "evalue": "[Errno 2] No such file or directory: '/kaggle/input/thunderbird-hacks-2024'",
     "output_type": "error",
     "traceback": [
      "\u001b[0;31m---------------------------------------------------------------------------\u001b[0m",
      "\u001b[0;31mFileNotFoundError\u001b[0m                         Traceback (most recent call last)",
      "Cell \u001b[0;32mIn [6], line 2\u001b[0m\n\u001b[1;32m      1\u001b[0m path \u001b[38;5;241m=\u001b[39m \u001b[38;5;124m\"\u001b[39m\u001b[38;5;124m/kaggle/input/thunderbird-hacks-2024\u001b[39m\u001b[38;5;124m\"\u001b[39m\n\u001b[0;32m----> 2\u001b[0m \u001b[43mos\u001b[49m\u001b[38;5;241;43m.\u001b[39;49m\u001b[43mlistdir\u001b[49m\u001b[43m(\u001b[49m\u001b[43mpath\u001b[49m\u001b[43m)\u001b[49m\n",
      "\u001b[0;31mFileNotFoundError\u001b[0m: [Errno 2] No such file or directory: '/kaggle/input/thunderbird-hacks-2024'"
     ]
    }
   ],
   "source": [
    "path = \"/kaggle/input/thunderbird-hacks-2025\"\n",
    "os.listdir(path)"
   ]
  },
  {
   "cell_type": "markdown",
   "metadata": {},
   "source": [
    "## Load the training data\n",
    "\n",
    "Running the cell below will load the training data into a pandas dataframe called `df_train`.\n"
   ]
  },
  {
   "cell_type": "code",
   "execution_count": null,
   "metadata": {},
   "outputs": [],
   "source": [
    "#load train.csv\n",
    "train_path = os.path.join(path, \"train.csv\") #join the folder path and file name\n",
    "df_train = pd.read_csv(train_path) #read the csv from file into a pandas dataframe\n",
    "df_train #output the dataframe"
   ]
  },
  {
   "cell_type": "markdown",
   "metadata": {},
   "source": [
    "Now, we want to prepare out dataset for training. We will do this in several steps:\n",
    "- Remove the `id` column, as it is a random value and not something that will help us learn what features impact crime type\n",
    "- Split the data into an `X` and `y` dataset, with `X` being the location and call features and `y` being the incident type\n",
    "- One hot encode the alphanumeric data. If you looked at the raw data, you'll see that there are a lot of words, or categories. One-hot encoding is a way to turn categories into numbers so that computers can understand them. For example, if you have three colors: (red, green, and blue), one-hot encoding would represent red as (1, 0, 0), green as (0, 1, 0), and blue as (0, 0, 1). This way, each color gets its own unique code without accidentally ranking them."
   ]
  },
  {
   "cell_type": "code",
   "execution_count": null,
   "metadata": {},
   "outputs": [],
   "source": [
    "#remove ID Columns\n",
    "df_train.drop([\"OBJECTID\", \"ReportDateTime\"], axis=1, inplace=True) \n",
    "#axis=1 means we're dropping a column and inplace means df_train will have that dropped column\n",
    "\n",
    "\n",
    "#Split data into X and y\n",
    "X = df_train.drop(\"IncidentType\", axis=1)\n",
    "y = df_train[\"IncidentType\"]"
   ]
  },
  {
   "cell_type": "markdown",
   "metadata": {},
   "source": [
    "If we look at a snippet of the data (just by running the cell below), we can see which columns will likely need to be one-hot encoded."
   ]
  },
  {
   "cell_type": "code",
   "execution_count": null,
   "metadata": {},
   "outputs": [],
   "source": [
    "X"
   ]
  },
  {
   "cell_type": "markdown",
   "metadata": {},
   "source": [
    "We will encode DayOfWeek, PoliceAreaCommand, and NeighborhoodAssociation"
   ]
  },
  {
   "cell_type": "code",
   "execution_count": null,
   "metadata": {},
   "outputs": [],
   "source": [
    "X_one_hot = pd.get_dummies(X[['DayofWeek', 'PoliceAreaCommand', 'NeighborhoodAssociation']]) \n",
    "#One hot encode\n",
    "\n",
    "X = pd.concat([X['Time'], X_one_hot], axis=1)"
   ]
  },
  {
   "cell_type": "markdown",
   "metadata": {},
   "source": [
    "### Why do we split data into X and y variables?\n",
    "\n",
    "In math or science class, you may have learned about independent and dependent variables. Our independent variables are in the X dataset (or what would go on the x-axis), which represent the features or characteristics of the data. The dependent variable is in the y dataset (or what would go on the y-axis), which represents the target or class label we want to predict. We know that our dependent variables depend on our independent variables some way. \n",
    "\n",
    "Oftentimes, information in the X dataset will give us hints as to what the corresponding label in the y dataset is. For example, if we're trying to figure out if an animal is a cat or a dog, having information on the animal's weight, height, fur color and more can be very useful. Then, once we have those values, we can guess if the animal is a cat or dog with confidence!\n",
    "\n",
    "Now, it's pretty easy for humans to look at an animal and figure out if it's a cat or dog without considering those factors. We just use our eyes! But for a machine learning model, it's not so easy. It has to learn the relationship between the information in the X dataset and the corresponding label in the y dataset. Then, it can make predictions on new data.\n",
    "\n",
    "In the graph below, let's pretend all green dots are cats and all red dots are dogs. See how they're clustered together? The goal of the machine learning model is to be able to properly categorize a new purple dot as cat or dog given what it's learned.\n",
    "\n",
    "![graph](https://upload.wikimedia.org/wikipedia/commons/2/2d/K_nearest_neighbour_explain.png)"
   ]
  },
  {
   "cell_type": "markdown",
   "metadata": {},
   "source": [
    "## Back to coding\n",
    "\n",
    "Now, we'll split the data up even further, into a training set and a validation set. The training set is still what you will train your model on, and the validation set is what you will test your model on, so you can get an idea of how it will perform before you submit it."
   ]
  },
  {
   "cell_type": "code",
   "execution_count": null,
   "metadata": {},
   "outputs": [],
   "source": [
    "x_train, x_val, y_train, y_val = model_selection.train_test_split(X, y, test_size=0.3, random_state=6)"
   ]
  },
  {
   "cell_type": "markdown",
   "metadata": {},
   "source": [
    "Let's train our first model!\n",
    "\n",
    "\n",
    "We are using a [k-nearest neighbors](https://scikit-learn.org/stable/modules/generated/sklearn.neighbors.KNeighborsClassifier.html#kneighborsclassifier) algorithm to start you off. \n",
    "\n",
    "K-nearest neighbors (KNN) is a simple way to classify things based on how similar they are to other things. Imagine you have a dataset with different features (like height, weight, and age) and a \"y\" column that tells you what category each item belongs to (like \"cat\" or \"dog\").\n",
    "\n",
    "Here's how KNN works:\n",
    "\n",
    "1. Choose a number - This is how many neighbors you want to look at. For example, if you chose 3, you'll look at the three closest items to the one you're trying to classify.\n",
    "\n",
    "2. Find the neighbors - For a new item (like a new animal), you calculate how close it is to all the items in your dataset using their features. You can use a distance formula, like the Euclidean distance, to find out which items are closest.\n",
    "\n",
    "3. Vote for a category - Once you have the closest items, you see which category they belong to. The category that appears the most among those neighbors is the one you assign to your new item.\n",
    "\n",
    "So, if most of the three closest animals are cats, you would classify the new animal as a cat! KNN is like asking your friends for their opinions to decide what you should do.\n",
    "\n",
    "The function KNeighborsClassifier does these three steps for you. To learn more about the algorithm, the [wikipedia article](https://en.wikipedia.org/wiki/K-nearest_neighbors_algorithm) is pretty good, or ask an AI chatbot!"
   ]
  },
  {
   "cell_type": "code",
   "execution_count": null,
   "metadata": {},
   "outputs": [],
   "source": [
    "model = KNeighborsClassifier(n_neighbors=5) #this is the algorithm, we're specifying 5 neighbors\n",
    "trained_model = model.fit(x_train, y_train) #this fits/trains the algorithm to the data"
   ]
  },
  {
   "cell_type": "markdown",
   "metadata": {},
   "source": [
    "Congratulations, you've trained your first machine learning model! Now, lets see how your model performs:"
   ]
  },
  {
   "cell_type": "code",
   "execution_count": null,
   "metadata": {},
   "outputs": [],
   "source": [
    "train_predict = trained_model.predict(x_train) #make predicts for the training set\n",
    "val_predict = trained_model.predict(x_val) #make predictions for the validation set\n",
    "\n",
    "#now we'll compute the accuracy for the train and validation sets\n",
    "train_acc = accuracy_score(y_train, train_predict)\n",
    "val_acc = accuracy_score(y_val, val_predict)\n",
    "\n",
    "#and print out the results:\n",
    "print(\"The accuracy for your training set is: \")\n",
    "print(train_acc)\n",
    "print(\"The accuracy for your validation set is: \")\n",
    "print(val_acc)"
   ]
  },
  {
   "cell_type": "markdown",
   "metadata": {},
   "source": [
    "The goal is to have the accuracy scores as high as possible for both your train and validation sets. If your training accuracy is a lot higher than your validation accuracy, then you are likely [overfitting to your data](https://www.ibm.com/topics/overfitting).\n",
    "\n",
    "Accuracy score is a way to measure how well your machine learning model is performing. It tells us the percentage of correct predictions out of the total predictions made. To compute it, we compare the model's predictions to the actual outcomes, count how many predictions were correct, and then divide that number by the total number of predictions. For example, if our model made 10 predictions and got 6 of them right, the accuracy would be 60%. In Python, we can use the accuracy_score function from the sklearn.metrics library to easily calculate this.\n",
    "\n",
    "\n",
    "$\\text{Accuracy Score} = \\frac{\\text{Number of Correct Predictions}}{\\text{Total Number of Predictions}}$\n",
    "\n",
    "The validation set is just a small dataset, however. We like to see performance on a small dataset before doing bigger ones to catch any mistakes or performance issues early. But now that we like our validation accuracy, we can move onto a bigger test set! This test set is in test.csv.\n",
    "\n",
    "\n",
    "Let's make the prediction on test.csv and make a submission to the leaderboard!"
   ]
  },
  {
   "cell_type": "code",
   "execution_count": null,
   "metadata": {},
   "outputs": [],
   "source": [
    "####PREPARE SUBMISSION\n",
    "#load and prepare the file\n",
    "test_path = os.path.join(path, \"test.csv\")\n",
    "df_test = pd.read_csv(test_path)\n",
    "df_test.drop('ReportDateTime', axis=1, inplace=True)\n",
    "X_test = df_test.drop(\"OBJECTID\", axis=1)\n",
    "\n",
    "#make the predictions\n",
    "final_preds = trained_model.predict(X_test)\n",
    "\n",
    "#check to make sure the song popularity values look sensible\n",
    "final_preds"
   ]
  },
  {
   "cell_type": "code",
   "execution_count": null,
   "metadata": {},
   "outputs": [],
   "source": [
    "####PREPARE SUBMISSION\n",
    "#if all above looks good, prepare the submission\n",
    "my_submission = pd.DataFrame({'OBECTID':df_test.OBJECTID , 'IncidentType': final_preds})\n",
    "# you could use any filename. We choose submission here\n",
    "my_submission.to_csv('submission.csv', index=False)"
   ]
  },
  {
   "cell_type": "markdown",
   "metadata": {},
   "source": [
    "After running the above cell, go to `Submit to Competition` on the right and click `Submit`. Follow the instructions and it'll submit your submissions.csv file for you."
   ]
  },
  {
   "cell_type": "markdown",
   "metadata": {},
   "source": [
    "Now, it is time to improve your model. We suggest:\n",
    "* Reading the [K-Nearest Neighbor documentation](https://scikit-learn.org/stable/modules/generated/sklearn.neighbors.KNeighborsClassifier.html) and seeing if there is anything you can change that might change your model. \n",
    "    * `n_neighbors` is the number of points closest to the point we're trying to classify. If we set this number to be too large, we may end up including points from other classes that aren't actually that \"near\" -- this could lead to incorrect classifications! We always try to keep `n_neighbors` to be an odd number... can you figure out why?\n",
    "    * `weights` is a cool way of specifying how \"important\" each point is to the classification of a point. For example, if we do 5-nearest neighbor, and four points are really close to the point we're trying to figure out, but the fifth is really far away (maybe even in another class!), we might want it to be less influential than the four closer ones. In that case, we might use a `distance` metric of weights. By default, however, all points are equally weighted (using a `uniform` weight).\n",
    "\n",
    "> **Help! How do I try different parameters?** Parameters are specific details you can give your code to individualize your functions a bit more. For example, you might want to try using 3 nearest neighbors instead of five! We can try different parameters by putting values in between the parentheses of `KNeighborsClassifier()` and specifiying what we want to change. For example, if I want to try 3-NN, I would do `KNeighborsClassifier(n_neighbors = 3)`. You can also have multiple parameters at once! For example: `KNeighborsClassifier(n_neighbors = 3, weights = distance)`."
   ]
  },
  {
   "cell_type": "code",
   "execution_count": null,
   "metadata": {},
   "outputs": [],
   "source": [
    "# try experimenting with different values of k. what happens if it's very large? very small?\n",
    "\n",
    "k = ...     # change me to a number!\n",
    "\n",
    "model = KNeighborsClassifier(n_neighbors = k) \n",
    "trained_model = model.fit(x_train, y_train)\n",
    "\n",
    "train_predict = trained_model.predict(x_train)\n",
    "val_predict = trained_model.predict(x_val)\n",
    "\n",
    "train_acc = accuracy_score(y_train, train_predict)\n",
    "val_acc = accuracy_score(y_val, val_predict)\n",
    "\n",
    "print(f\"The accuracy for your training set with {k} nearest neighbors is: \")\n",
    "print(train_acc)\n",
    "print(f\"The accuracy for your validation set with {k} nearest neighbors is: \")\n",
    "print(val_acc)"
   ]
  },
  {
   "cell_type": "code",
   "execution_count": null,
   "metadata": {},
   "outputs": [],
   "source": [
    "# what about if you change the `weights`?\n",
    "\n",
    "# uncomment one `weight_type` at a time to see how it works!\n",
    "weight_type = 'uniform'\n",
    "# weight_type = 'distance'\n",
    "\n",
    "model = KNeighborsClassifier(n_neighbors = 3, weights = weight_type) \n",
    "trained_model = model.fit(x_train, y_train)\n",
    "\n",
    "train_predict = trained_model.predict(x_train)\n",
    "val_predict = trained_model.predict(x_val)\n",
    "\n",
    "train_acc = accuracy_score(y_train, train_predict)\n",
    "val_acc = accuracy_score(y_val, val_predict)\n",
    "\n",
    "print(f\"The accuracy for your training set using {weight_type} weights is: \")\n",
    "print(train_acc)\n",
    "print(f\"The accuracy for your validation set using {weight_type} weights is: \")\n",
    "print(val_acc)"
   ]
  },
  {
   "cell_type": "code",
   "execution_count": null,
   "metadata": {},
   "outputs": [],
   "source": [
    "# time to experiment!! you can change the number of neighbors, weights, or any other parameter you'd like!\n",
    "\n",
    "model = KNeighborsClassifier(...)   # fill me out!\n",
    "trained_model = model.fit(x_train, y_train)\n",
    "\n",
    "train_predict = trained_model.predict(x_train)\n",
    "val_predict = trained_model.predict(x_val)\n",
    "\n",
    "train_acc = accuracy_score(y_train, train_predict)\n",
    "val_acc = accuracy_score(y_val, val_predict)\n",
    "\n",
    "print(\"The accuracy for your training set is: \")\n",
    "print(train_acc)\n",
    "print(\"The accuracy for your validation set is: \")\n",
    "print(val_acc)"
   ]
  },
  {
   "cell_type": "markdown",
   "metadata": {},
   "source": [
    "And remember, to make a sumbission, make sure you can run the cells that start with ####Prepare submission"
   ]
  }
 ],
 "metadata": {
  "kaggle": {
   "accelerator": "none",
   "dataSources": [
    {
     "databundleVersionId": 7531194,
     "sourceId": 67871,
     "sourceType": "competition"
    }
   ],
   "dockerImageVersionId": 30635,
   "isGpuEnabled": false,
   "isInternetEnabled": true,
   "language": "python",
   "sourceType": "notebook"
  },
  "kernelspec": {
   "display_name": "Python 3 (ipykernel)",
   "language": "python",
   "name": "python3"
  },
  "language_info": {
   "codemirror_mode": {
    "name": "ipython",
    "version": 3
   },
   "file_extension": ".py",
   "mimetype": "text/x-python",
   "name": "python",
   "nbconvert_exporter": "python",
   "pygments_lexer": "ipython3",
   "version": "3.8.10"
  }
 },
 "nbformat": 4,
 "nbformat_minor": 4
}
